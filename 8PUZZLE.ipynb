{
  "nbformat": 4,
  "nbformat_minor": 0,
  "metadata": {
    "colab": {
      "provenance": []
    },
    "kernelspec": {
      "name": "python3",
      "display_name": "Python 3"
    },
    "language_info": {
      "name": "python"
    }
  },
  "cells": [
    {
      "cell_type": "code",
      "execution_count": null,
      "metadata": {
        "colab": {
          "base_uri": "https://localhost:8080/"
        },
        "id": "xn9cAmC6xCDQ",
        "outputId": "415d2bc0-6f95-400a-fdad-189c1fc1965f"
      },
      "outputs": [
        {
          "output_type": "stream",
          "name": "stdout",
          "text": [
            "4\n"
          ]
        }
      ],
      "source": [
        "class Solution:\n",
        " def solve(self, board):\n",
        "   dict = {}\n",
        "   flatten = []\n",
        "   for i in range(len(board)):\n",
        "     flatten += board[i]\n",
        "   flatten = tuple(flatten)\n",
        "   dict[flatten] = 0\n",
        "   if flatten == (0, 1, 2, 3, 4, 5, 6, 7, 8):\n",
        "     return 0\n",
        "   return self.get_paths(dict)\n",
        " def get_paths(self, dict):\n",
        "   cnt = 0\n",
        "   while True:\n",
        "     current_nodes = [x for x in dict if dict[x] == cnt]\n",
        "     if len(current_nodes) == 0:\n",
        "       return -1\n",
        "     for node in current_nodes:\n",
        "       next_moves = self.find_next(node)\n",
        "       for move in next_moves:\n",
        "         if move not in dict:\n",
        "           dict[move] = cnt + 1\n",
        "         if move == (0, 1, 2, 3, 4, 5, 6, 7, 8):\n",
        "           return cnt + 1\n",
        "     cnt += 1\n",
        " def find_next(self, node):\n",
        "   moves = {\n",
        "       0: [1, 3],\n",
        "       1: [0, 2, 4],\n",
        "       2: [1, 5],\n",
        "       3: [0, 4, 6],\n",
        "       4: [1, 3, 5, 7],\n",
        "       5: [2, 4, 8],\n",
        "       6: [3, 7],\n",
        "       7: [4, 6, 8],\n",
        "       8: [5, 7],\n",
        "  }\n",
        "   results = []\n",
        "   pos_0 = node.index(0)\n",
        "   for move in moves[pos_0]:\n",
        "     new_node = list(node)\n",
        "     new_node[move], new_node[pos_0] = new_node[pos_0], new_node[move]\n",
        "     results.append(tuple(new_node))\n",
        "   return results\n",
        "ob = Solution()\n",
        "matrix = [\n",
        "          [3, 1, 2],\n",
        "          [4, 7, 5],\n",
        "          [6, 8, 0]\n",
        "]\n",
        "print(ob.solve(matrix))"
      ]
    }
  ]
}